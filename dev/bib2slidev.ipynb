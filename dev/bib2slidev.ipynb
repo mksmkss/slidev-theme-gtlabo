{
 "cells": [
  {
   "cell_type": "code",
   "execution_count": 1,
   "metadata": {},
   "outputs": [],
   "source": [
    "# セル1: ライブラリインポート\n",
    "import re"
   ]
  },
  {
   "cell_type": "code",
   "execution_count": 4,
   "metadata": {},
   "outputs": [],
   "source": [
    "# セル2: 変換関数\n",
    "def convert_bibtex(bibtex_text):\n",
    "    # 必要な情報を抽出\n",
    "    author = re.search(r'author\\s*=\\s*\\{([^}]+)\\}', bibtex_text).group(1)\n",
    "    title = re.search(r'title\\s*=\\s*\\{([^}]+)\\}', bibtex_text).group(1)\n",
    "    year = re.search(r'year\\s*=\\s*\\{([^}]+)\\}', bibtex_text).group(1)\n",
    "    \n",
    "    # オプション項目\n",
    "    journal_match = re.search(r'journal\\s*=\\s*\\{([^}]+)\\}', bibtex_text)\n",
    "    journal = journal_match.group(1) if journal_match else \"arXiv preprint\"\n",
    "    \n",
    "    volume_match = re.search(r'volume\\s*=\\s*\\{([^}]+)\\}', bibtex_text)\n",
    "    volume = volume_match.group(1) if volume_match else \"\"\n",
    "    \n",
    "    number_match = re.search(r'number\\s*=\\s*\\{([^}]+)\\}', bibtex_text)\n",
    "    number = number_match.group(1) if number_match else \"\"\n",
    "    \n",
    "    pages_match = re.search(r'pages\\s*=\\s*\\{([^}]+)\\}', bibtex_text)\n",
    "    pages = pages_match.group(1) if pages_match else \"\"\n",
    "    \n",
    "    publisher_match = re.search(r'publisher\\s*=\\s*\\{([^}]+)\\}', bibtex_text)\n",
    "    publisher = publisher_match.group(1) if publisher_match else \"\"\n",
    "    \n",
    "    issn_match = re.search(r'issn\\s*=\\s*\\{([^}]+)\\}', bibtex_text)\n",
    "    issn = issn_match.group(1) if issn_match else \"\"\n",
    "    \n",
    "    # 最初の著者名を取得（姓名のイニシャル形式に）\n",
    "    first_author = author.split(' and ')[0].strip()\n",
    "    \n",
    "    # 結果を出力\n",
    "    print(f\"{first_author}:\")\n",
    "    print(f'    author : \"{author}\"')\n",
    "    if issn:\n",
    "        print(f'    issn : \"{issn}\"')\n",
    "    print(f'    journal : \"{journal}\"')\n",
    "    print(f'    language : \"jpn\"')\n",
    "    if number:\n",
    "        print(f'    number : \"{number}\"')\n",
    "    if pages:\n",
    "        print(f'    pages : \"{pages}\"')\n",
    "    if publisher:\n",
    "        print(f'    publisher : \"{publisher}\"')\n",
    "    print(f'    title : \"{title}\"')\n",
    "    if volume:\n",
    "        print(f'    volume : \"{volume}\"')\n",
    "    print(f'    year : \"{year}\"')"
   ]
  },
  {
   "cell_type": "code",
   "execution_count": 5,
   "metadata": {},
   "outputs": [
    {
     "name": "stdout",
     "output_type": "stream",
     "text": [
      "Raghavendra Chalapathy:\n",
      "    author : \"Raghavendra Chalapathy and Aditya Krishna Menon and Sanjay Chawla\"\n",
      "    journal : \"arXiv preprint\"\n",
      "    language : \"jpn\"\n",
      "    title : \"Anomaly Detection using One-Class Neural Networks\"\n",
      "    year : \"2019\"\n"
     ]
    }
   ],
   "source": [
    "# セル3: 実行\n",
    "bibtex = \"\"\"@misc{chalapathy2019anomalydetectionusingoneclass,\n",
    "      title={Anomaly Detection using One-Class Neural Networks}, \n",
    "      author={Raghavendra Chalapathy and Aditya Krishna Menon and Sanjay Chawla},\n",
    "      year={2019},\n",
    "      eprint={1802.06360},\n",
    "      archivePrefix={arXiv},\n",
    "      primaryClass={cs.LG},\n",
    "      url={https://arxiv.org/abs/1802.06360}, \n",
    "}\"\"\"\n",
    "\n",
    "convert_bibtex(bibtex)"
   ]
  },
  {
   "cell_type": "code",
   "execution_count": null,
   "metadata": {},
   "outputs": [],
   "source": []
  }
 ],
 "metadata": {
  "kernelspec": {
   "display_name": "Python 3",
   "language": "python",
   "name": "python3"
  },
  "language_info": {
   "codemirror_mode": {
    "name": "ipython",
    "version": 3
   },
   "file_extension": ".py",
   "mimetype": "text/x-python",
   "name": "python",
   "nbconvert_exporter": "python",
   "pygments_lexer": "ipython3",
   "version": "3.13.5"
  }
 },
 "nbformat": 4,
 "nbformat_minor": 2
}
